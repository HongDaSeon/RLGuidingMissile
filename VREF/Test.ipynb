{
 "cells": [
  {
   "cell_type": "code",
   "execution_count": 55,
   "source": [
    "import torch\r\n",
    "import numpy as np\r\n",
    "import random as rd\r\n",
    "import math as m\r\n",
    "rd.seed(777)"
   ],
   "outputs": [],
   "metadata": {}
  },
  {
   "cell_type": "code",
   "execution_count": 14,
   "source": [
    "dtstring            = 'dt '+ \"{:.2f}\".format(0.011) \r\n",
    "targetMinMaxString  = 'Target Dist '+ \"{:.1f}\".format(2345.45546)+\"~\"+\"{:.1f}\".format(1234.54)\r\n",
    "MaxNoFlyZoneString  = 'No Fly Zone max quant '+\"{:.0f}\".format(5)\r\n",
    "MaxStructString     = 'Structure max quant '+\"{:.0f}\".format(2)\r\n",
    "kkk = dtstring+'\\n'+targetMinMaxString+'\\n'+MaxNoFlyZoneString+'\\n'+MaxStructString+'\\n'"
   ],
   "outputs": [],
   "metadata": {}
  },
  {
   "cell_type": "code",
   "execution_count": 15,
   "source": [
    "kkk"
   ],
   "outputs": [
    {
     "output_type": "execute_result",
     "data": {
      "text/plain": [
       "'dt 0.01\\nTarget Dist 2345.5~1234.5\\nNo Fly Zone max quant 5\\nStructure max quant 2\\n'"
      ]
     },
     "metadata": {},
     "execution_count": 15
    }
   ],
   "metadata": {}
  },
  {
   "cell_type": "code",
   "execution_count": 51,
   "source": [
    "\r\n",
    "rd.randint(1,5)\r\n",
    "rd.randrange(1.,7.)"
   ],
   "outputs": [
    {
     "output_type": "execute_result",
     "data": {
      "text/plain": [
       "5"
      ]
     },
     "metadata": {},
     "execution_count": 51
    }
   ],
   "metadata": {}
  },
  {
   "cell_type": "code",
   "execution_count": 53,
   "source": [
    "a = (1,2)\r\n",
    "a[1]"
   ],
   "outputs": [
    {
     "output_type": "execute_result",
     "data": {
      "text/plain": [
       "2"
      ]
     },
     "metadata": {},
     "execution_count": 53
    }
   ],
   "metadata": {}
  },
  {
   "cell_type": "code",
   "execution_count": 58,
   "source": [
    "a = np.array([1,2,3])\r\n",
    "mag = m.sqrt(np.sum(a**2))\r\n",
    "mag"
   ],
   "outputs": [
    {
     "output_type": "execute_result",
     "data": {
      "text/plain": [
       "3.7416573867739413"
      ]
     },
     "metadata": {},
     "execution_count": 58
    }
   ],
   "metadata": {}
  },
  {
   "cell_type": "code",
   "execution_count": 65,
   "source": [
    "k = ((1,2),(2,3),(3,4))"
   ],
   "outputs": [],
   "metadata": {}
  },
  {
   "cell_type": "code",
   "execution_count": 69,
   "source": [
    "k[1][1]"
   ],
   "outputs": [
    {
     "output_type": "execute_result",
     "data": {
      "text/plain": [
       "3"
      ]
     },
     "metadata": {},
     "execution_count": 69
    }
   ],
   "metadata": {}
  },
  {
   "cell_type": "code",
   "execution_count": 72,
   "source": [
    "def TriAreaVtx(p1, p2, p3):\r\n",
    "        MAT     = np.array([ [p1[0], p1[1], 1], [p2[0], p2[1], 1], [p3[0], p3[1], 1]])\r\n",
    "        return 0.5*abs(np.linalg.det(MAT))"
   ],
   "outputs": [],
   "metadata": {}
  },
  {
   "cell_type": "code",
   "execution_count": 80,
   "source": [
    "TriAreaVtx((1,0),(3,0),(2,2))"
   ],
   "outputs": [
    {
     "output_type": "execute_result",
     "data": {
      "text/plain": [
       "2.0000000000000004"
      ]
     },
     "metadata": {},
     "execution_count": 80
    }
   ],
   "metadata": {}
  },
  {
   "cell_type": "code",
   "execution_count": null,
   "source": [],
   "outputs": [],
   "metadata": {}
  }
 ],
 "metadata": {
  "kernelspec": {
   "name": "python3",
   "display_name": "Python 3.7.5 64-bit"
  },
  "language_info": {
   "codemirror_mode": {
    "name": "ipython",
    "version": 3
   },
   "file_extension": ".py",
   "mimetype": "text/x-python",
   "name": "python",
   "nbconvert_exporter": "python",
   "pygments_lexer": "ipython3",
   "version": "3.7.5"
  },
  "interpreter": {
   "hash": "18616a29de8c4c2d995be9eae18fe16471391d64447bbf7f03078d6582a42b16"
  }
 },
 "nbformat": 4,
 "nbformat_minor": 4
}